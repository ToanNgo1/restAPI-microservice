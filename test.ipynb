{
 "cells": [
  {
   "cell_type": "code",
   "execution_count": 3,
   "metadata": {},
   "outputs": [
    {
     "data": {
      "text/plain": [
       "True"
      ]
     },
     "execution_count": 3,
     "metadata": {},
     "output_type": "execute_result"
    }
   ],
   "source": [
    "#load enviroment \n",
    "import os \n",
    "from dotenv import load_dotenv\n",
    "load_dotenv()"
   ]
  },
  {
   "cell_type": "code",
   "execution_count": null,
   "metadata": {},
   "outputs": [
    {
     "name": "stdout",
     "output_type": "stream",
     "text": [
      "localhost\n"
     ]
    },
    {
     "data": {
      "text/plain": [
       "'@server.route(\"/login\", methods=[\"POST\"])\\ndef login():\\n    auth=request.authorization      #return a tuble     format: authorization=\\n    if(not auth):\\n        return \"failer to authenticate\",401\\n    #check data base for user credentical\\n    cur=mysql.connect.cursor()      #set up the pointer \\n    res= cur.execute(               #SQL query \\n        \"SELECT email,password FROM user Where email=%s\"(auth.username,)\\n    )\\n\\n    if res>0: #there a user name match\\n        user_row=cur.fetchone()\\n        email=user_row[0]\\n        password=user_row[1]\\n\\n        if(email !=auth.username or password !=auth.password):\\n            return \"invalid credential !\", 401\\n        else:\\n            return create_jwt(auth.username,os.environ.get(\"JWT_SECRET\"),True)        #this will create a token for loging in \\n    else:\\n        return \"invalid credentials !\",401\\n    \\ndef create_jwt(username,secret,authz):\\n    return jwt.encode(\\n        {\\n            \"username\":username,\\n            \"exp\":datetime.datetime.now(tzinfo=datetime.timezone.utc)+ datetime.timedelta(day=1),\\n            \"iat\":datetime.datetime.utcnow(),\\n            \"admin\":authz,\\n        },\\n        secret,\\n        algorithm=\"HS256\",\\n    )'"
      ]
     },
     "execution_count": 4,
     "metadata": {},
     "output_type": "execute_result"
    }
   ],
   "source": [
    "import jwt, os\n",
    "from datetime import datetime,timezone,timedelta\n",
    "from flask import Flask, request   \n",
    "from flask_mysqldb import MySQL\n",
    "\n",
    "server=Flask(\"demo\")\n",
    "mysql=MySQL(server)\n",
    "server.config['MYSQL_HOST'] = os.environ.get(\"MySQL_HOST\")\n",
    "#print(server.config['MYSQL_HOST'])\n",
    "server.config['MYSQL_DATABASE_PASSWORD'] = os.environ.get(\"MySQL_password\")\n",
    "server.config['MYSQL_DATABASE_DB'] = os.environ.get(\"MYSQL_DB\")\n",
    "server.config['MYSQL_DATABASE_HOST'] = os.environ.get(\"MYSQL_PORT\")\n",
    "\n",
    "#base route\n",
    "@server.route(\"/login\", methods=[\"POST\"])\n",
    "def login():\n",
    "    auth=request.authorization      #return a tuble     format: authorization=\n",
    "    if(not auth):\n",
    "        return \"failer to authenticate\",401\n",
    "    #check data base for user credentical\n",
    "    cur=mysql.connect.cursor()      #set up the pointer \n",
    "    res= cur.execute(               #SQL query \n",
    "        \"SELECT email,password FROM user Where email=%s\"(auth.username,)\n",
    "    )\n",
    "\n",
    "    if res>0: #there a user name match\n",
    "        user_row=cur.fetchone() #return (email,password)\n",
    "        email=user_row[0]\n",
    "        password=user_row[1]\n",
    "\n",
    "        if(email !=auth.username or password !=auth.password):\n",
    "            return \"invalid credential !\", 401\n",
    "        else:\n",
    "            return create_jwt(auth.username,os.environ.get(\"JWT_SECRET\"),True)        #this will create a token for loging in \n",
    "    else:\n",
    "        return \"invalid credentials !\",401\n",
    "    \n",
    "def create_jwt(username,secret,authz):\n",
    "    return jwt.encode(\n",
    "        {\n",
    "            \"username\":username,\n",
    "            \"exp\":datetime.datetime.now(tzinfo=datetime.timezone.utc)+ datetime.timedelta(day=1),\n",
    "            \"iat\":datetime.datetime.utcnow(),\n",
    "            \"admin\":authz,\n",
    "        },\n",
    "        secret,\n",
    "        algorithm=\"HS256\",\n",
    "    )\n"
   ]
  }
 ],
 "metadata": {
  "kernelspec": {
   "display_name": "nazu",
   "language": "python",
   "name": "python3"
  },
  "language_info": {
   "codemirror_mode": {
    "name": "ipython",
    "version": 3
   },
   "file_extension": ".py",
   "mimetype": "text/x-python",
   "name": "python",
   "nbconvert_exporter": "python",
   "pygments_lexer": "ipython3",
   "version": "3.10.8"
  }
 },
 "nbformat": 4,
 "nbformat_minor": 2
}
